{
  "nbformat": 4,
  "nbformat_minor": 0,
  "metadata": {
    "colab": {
      "provenance": [],
      "authorship_tag": "ABX9TyPL/b8dcjvhK56l3nbvA67N",
      "include_colab_link": true
    },
    "kernelspec": {
      "name": "python3",
      "display_name": "Python 3"
    },
    "language_info": {
      "name": "python"
    }
  },
  "cells": [
    {
      "cell_type": "markdown",
      "metadata": {
        "id": "view-in-github",
        "colab_type": "text"
      },
      "source": [
        "<a href=\"https://colab.research.google.com/github/KomkovMS/GB-Introduction-to-Python-12-2022/blob/master/KomkovMS_3.ipynb\" target=\"_parent\"><img src=\"https://colab.research.google.com/assets/colab-badge.svg\" alt=\"Open In Colab\"/></a>"
      ]
    },
    {
      "cell_type": "markdown",
      "source": [
        "#**Теория вероятностей и математическая статистика (семинары)**"
      ],
      "metadata": {
        "id": "4LBSm02DfrhH"
      }
    },
    {
      "cell_type": "markdown",
      "source": [
        "##**Урок 3. EDA (exploratory data analysis) или Разведочный анализ**"
      ],
      "metadata": {
        "id": "hxHbnO5Z24ct"
      }
    },
    {
      "cell_type": "markdown",
      "source": [
        "### **Задание 1.**"
      ],
      "metadata": {
        "id": "59TtFmH41z2m"
      }
    },
    {
      "cell_type": "markdown",
      "source": [
        "**Даны значения зарплат из выборки выпускников: 100, 80, 75, 77, 89, 33, 45, 25, 65, 17, 30, 24, 57, 55, 70, 75, 65, 84, 90, 150. Посчитать среднее арифметическое, среднее квадратичное отклонение, смещенную и несмещенную оценки дисперсий для данной выборки.**"
      ],
      "metadata": {
        "id": "f6VfEsbK1-93"
      }
    },
    {
      "cell_type": "code",
      "source": [
        "import numpy as np"
      ],
      "metadata": {
        "id": "cUd0iqnDf1TU"
      },
      "execution_count": 8,
      "outputs": []
    },
    {
      "cell_type": "code",
      "source": [
        "salaries = np.array([100, 80, 75, 77, 89, 33, 45, 25, 65, 17, 30, 24, 57, 55, 70, 75, 65, 84, 90, 150])\n",
        "# Среднее арифметическое\n",
        "mean = np.mean(salaries)\n",
        "print(\"Среднее арифметическое:\", round(mean,2))\n",
        "\n",
        "# Среднее квадратичное отклонение\n",
        "std_deviation = np.std(salaries)\n",
        "print(\"Среднее квадратичное отклонение:\", round(std_deviation,2))\n",
        "\n",
        "# Смещенная оценка дисперсии\n",
        "variance_biased = np.var(salaries)\n",
        "print(\"Смещенная оценка дисперсии:\", round(variance_biased,2))\n",
        "\n",
        "# Несмещенная оценка дисперсии\n",
        "variance_unbiased = np.var(salaries, ddof=1)\n",
        "print(\"Несмещенная оценка дисперсии:\", round(variance_unbiased,2))"
      ],
      "metadata": {
        "colab": {
          "base_uri": "https://localhost:8080/"
        },
        "id": "xSD8qruF3pFI",
        "outputId": "bbe6dc60-2c42-4a5f-e4ed-91505fc35a24"
      },
      "execution_count": 13,
      "outputs": [
        {
          "output_type": "stream",
          "name": "stdout",
          "text": [
            "Среднее арифметическое: 65.3\n",
            "Среднее квадратичное отклонение: 30.82\n",
            "Смещенная оценка дисперсии: 950.11\n",
            "Несмещенная оценка дисперсии: 1000.12\n"
          ]
        }
      ]
    },
    {
      "cell_type": "markdown",
      "source": [
        "### **Задание 2.**"
      ],
      "metadata": {
        "id": "sK8j91eE4K2q"
      }
    },
    {
      "cell_type": "markdown",
      "source": [
        "**В первом ящике находится 8 мячей, из которых 5 - белые. Во втором ящике - 12 мячей, из которых 5 белых. Из первого ящика вытаскивают случайным образом два мяча, из второго - 4. Какова вероятность того, что 3 мяча белые?**"
      ],
      "metadata": {
        "id": "D4ohn2UV4RbB"
      }
    },
    {
      "cell_type": "code",
      "source": [
        "import math\n",
        "\n",
        "# Функция для вычисления числа сочетаний C(n, k)\n",
        "def combinations(n, k):\n",
        "    return math.comb(n, k)\n",
        "\n",
        "# Вероятность вытянуть 3 белых мяча\n",
        "# Из первого ящика вытянули 3 белых мяча, а из второго ни одного\n",
        "p_A1_A2 = (combinations(5, 3) / combinations(8, 3)) * (combinations(7, 0) / combinations(12, 4))\n",
        "\n",
        "# Из первого ящика вытянули 2 белых мяча, а из второго 1 белый мяч\n",
        "p_A1_notA2 = (combinations(5, 2) * combinations(3, 1) / combinations(8, 3)) * \\\n",
        "             (combinations(5, 1) * combinations(7, 3) / combinations(12, 4))\n",
        "\n",
        "# Из первого ящика вытянули 1 белый мяч, а из второго 2 белых мяча\n",
        "p_notA1_A2 = (combinations(5, 1) * combinations(3, 1) / combinations(8, 3)) * \\\n",
        "             (combinations(5, 2) * combinations(7, 2) / combinations(12, 4))\n",
        "\n",
        "# Из первого ящика вытянули ни одного белого мяча, а из второго 3 белых мяча\n",
        "p_notA1_notA2 = (combinations(3, 2) / combinations(8, 3)) * \\\n",
        "                (combinations(5, 3) * combinations(7, 1) / combinations(12, 4))\n",
        "\n",
        "# Общая вероятность\n",
        "p_A = p_A1_A2 + p_A1_notA2 + p_notA1_A2 + p_notA1_notA2\n",
        "\n",
        "print(\"Вероятность того, что из ящиков вынули три белых мяча:\", round(p_A, 3))"
      ],
      "metadata": {
        "colab": {
          "base_uri": "https://localhost:8080/"
        },
        "id": "UkhfkOn04OP4",
        "outputId": "69c55148-e05f-42e2-bc17-7259a3334734"
      },
      "execution_count": 2,
      "outputs": [
        {
          "output_type": "stream",
          "name": "stdout",
          "text": [
            "Вероятность того, что из ящиков вынули три белых мяча: 0.311\n"
          ]
        }
      ]
    },
    {
      "cell_type": "markdown",
      "source": [
        "### **Задание 3.**"
      ],
      "metadata": {
        "id": "0tT6lcOv7oG3"
      }
    },
    {
      "cell_type": "markdown",
      "source": [
        "**На соревновании по биатлону один из трех спортсменов стреляет и попадает в мишень. Вероятность попадания для первого спортсмена равна 0.9, для второго — 0.8, для третьего — 0.6. Найти вероятность того, что выстрел произведен: a) первым спортсменом б) вторым спортсменом в) третьим спортсменом.**"
      ],
      "metadata": {
        "id": "WnjN4GRM7uN9"
      }
    },
    {
      "cell_type": "code",
      "source": [
        "def calculate_shooter_probability(p1, p2, p3):\n",
        "    \"\"\"\n",
        "    Функция вычисляет вероятности того, что выстрел совершен каждым спортсменом,\n",
        "    при условии, что мишень была поражена.\n",
        "\n",
        "    Аргументы:\n",
        "    p1 (float): Вероятность попадания мишени первым спортсменом.\n",
        "    p2 (float): Вероятность попадания мишени вторым спортсменом.\n",
        "    p3 (float): Вероятность попадания мишени третьим спортсменом.\n",
        "\n",
        "    Возвращает:\n",
        "    numpy.ndarray: Массив с вероятностями, что выстрел совершен каждым спортсменом,\n",
        "    при условии, что мишень была поражена.\n",
        "    \"\"\"\n",
        "    # Вероятности попадания мишени для каждого спортсмена\n",
        "    p_hit_given_shooter = np.array([p1, p2, p3])\n",
        "\n",
        "    # Априорные вероятности для каждого спортсмена\n",
        "    shooter_prior_probs = np.array([1 / 3, 1 / 3, 1 / 3])\n",
        "\n",
        "    # Полная вероятность попадания мишени\n",
        "    p_hit = np.sum(p_hit_given_shooter * shooter_prior_probs)\n",
        "\n",
        "    # Вычисление вероятности каждого спортсмена при условии попадания мишени\n",
        "    shooter_posterior_probs = p_hit_given_shooter * shooter_prior_probs / p_hit\n",
        "\n",
        "    return shooter_posterior_probs\n",
        "\n",
        "# Вероятности попадания мишени для каждого спортсмена\n",
        "p1 = 0.9\n",
        "p2 = 0.8\n",
        "p3 = 0.6\n",
        "\n",
        "# Вычисление вероятностей для каждого спортсмена при условии попадания мишени\n",
        "shooter_probs = calculate_shooter_probability(p1, p2, p3)\n",
        "\n",
        "print(\"Вероятность того, что выстрел произведен:\")\n",
        "print(\"а). первым спортсменом:\", round(shooter_probs[0], 2))\n",
        "print(\"б). вторым спортсменом:\", round(shooter_probs[1], 2))\n",
        "print(\"в). третьим спортсменом:\", round(shooter_probs[2], 2))\n"
      ],
      "metadata": {
        "colab": {
          "base_uri": "https://localhost:8080/"
        },
        "id": "KFTNwEEp7rmx",
        "outputId": "0c612171-a9f8-42f2-c1a3-bd1666ecb535"
      },
      "execution_count": 15,
      "outputs": [
        {
          "output_type": "stream",
          "name": "stdout",
          "text": [
            "Вероятность того, что выстрел произведен:\n",
            "а). первым спортсменом: 0.39\n",
            "б). вторым спортсменом: 0.35\n",
            "в). третьим спортсменом: 0.26\n"
          ]
        }
      ]
    },
    {
      "cell_type": "markdown",
      "source": [
        "### **Задание 4.**"
      ],
      "metadata": {
        "id": "Hcm7P4Ih70DC"
      }
    },
    {
      "cell_type": "markdown",
      "source": [
        "**В университет на факультеты A и B поступило равное количество студентов, а на факультет C студентов поступило столько же, сколько на A и B вместе. Вероятность того, что студент факультета A сдаст первую сессию, равна 0.8. Для студента факультета B эта вероятность равна 0.7, а для студента факультета C - 0.9. Студент сдал первую сессию. Какова вероятность, что он учится: a) на факультете A б) на факультете B в) на факультете C?**"
      ],
      "metadata": {
        "id": "hX8kyRxt70Uq"
      }
    },
    {
      "cell_type": "code",
      "source": [
        "def calculate_faculty_probability():\n",
        "    \"\"\"\n",
        "    Функция вычисляет вероятности того, что студент учится на каждом факультете при условии сдачи сессии.\n",
        "\n",
        "    Возвращает:\n",
        "    tuple: Кортеж из трех значений, представляющих вероятности учебы на факультетах A, B и C при условии сдачи сессии.\n",
        "    \"\"\"\n",
        "    # Вероятности того, что студент учится на каждом факультете\n",
        "    p_A = 1 / 4\n",
        "    p_B = 1 / 4\n",
        "    p_C = 1 / 2\n",
        "\n",
        "    # Вероятности сдачи сессии для каждого факультета\n",
        "    p_pass_given_A = 0.8\n",
        "    p_pass_given_B = 0.7\n",
        "    p_pass_given_C = 0.9\n",
        "\n",
        "    # Вычисление общей вероятности сдачи сессии\n",
        "    p_pass = p_pass_given_A * p_A + p_pass_given_B * p_B + p_pass_given_C * p_C\n",
        "\n",
        "    # Вычисление вероятностей учебы на каждом факультете при условии сдачи сессии\n",
        "    p_A_given_pass = (p_pass_given_A * p_A) / p_pass\n",
        "    p_B_given_pass = (p_pass_given_B * p_B) / p_pass\n",
        "    p_C_given_pass = (p_pass_given_C * p_C) / p_pass\n",
        "\n",
        "    return p_A_given_pass, p_B_given_pass, p_C_given_pass\n",
        "\n",
        "\n",
        "# Вычисление вероятностей для каждого факультета при условии сдачи сессии\n",
        "p_A_pass, p_B_pass, p_C_pass = calculate_faculty_probability()\n",
        "\n",
        "print(\n",
        "    \"Вероятность того, что студент учится на факультете A при условии сдачи сессии:\",\n",
        "    round(p_A_pass, 2))\n",
        "print(\n",
        "    \"Вероятность того, что студент учится на факультете B при условии сдачи сессии:\",\n",
        "    round(p_B_pass, 2))\n",
        "print(\n",
        "    \"Вероятность того, что студент учится на факультете C при условии сдачи сессии:\",\n",
        "    round(p_C_pass, 2))\n"
      ],
      "metadata": {
        "colab": {
          "base_uri": "https://localhost:8080/"
        },
        "id": "oHBYQcth9BqS",
        "outputId": "93e657ce-207d-40fd-914e-31f93f120709"
      },
      "execution_count": 16,
      "outputs": [
        {
          "output_type": "stream",
          "name": "stdout",
          "text": [
            "Вероятность того, что студент учится на факультете A при условии сдачи сессии: 0.24\n",
            "Вероятность того, что студент учится на факультете B при условии сдачи сессии: 0.21\n",
            "Вероятность того, что студент учится на факультете C при условии сдачи сессии: 0.55\n"
          ]
        }
      ]
    },
    {
      "cell_type": "markdown",
      "source": [
        "### **Задание 5.**"
      ],
      "metadata": {
        "id": "yhupGs3H8AGK"
      }
    },
    {
      "cell_type": "markdown",
      "source": [
        "**Устройство состоит из трех деталей. Для первой детали вероятность выйти из строя в первый месяц равна 0.1, для второй - 0.2, для третьей - 0.25. Какова вероятность того, что в первый месяц выйдут из строя: а) все детали б) только две детали в) хотя бы одна деталь г) от одной до двух деталей?**"
      ],
      "metadata": {
        "id": "8azUUSuy8AfK"
      }
    },
    {
      "cell_type": "code",
      "source": [
        "# Вероятности выхода из строя для каждой детали\n",
        "p1 = 0.1  # Вероятность выхода из строя первой детали\n",
        "p2 = 0.2  # Вероятность выхода из строя второй детали\n",
        "p3 = 0.25  # Вероятность выхода из строя третьей детали\n",
        "\n",
        "# Вычисление вероятности выхода из строя всех деталей\n",
        "p_all = p1 * p2 * p3\n",
        "print(\"Вероятность выхода из строя всех деталей:\", round(p_all, 3))\n",
        "\n",
        "# Вычисление вероятности выхода из строя только двух деталей\n",
        "p_only_two = (p1 * p2 * (1 - p3)) + (p1 * (1 - p2) * p3) + ((1 - p1) * p2 * p3)\n",
        "print(\"Вероятность выхода из строя только двух деталей:\", round(p_only_two, 3))\n",
        "\n",
        "# Вычисление вероятности выхода из строя хотя бы одной детали\n",
        "p_at_least_one = 1 - (1 - p1) * (1 - p2) * (1 - p3)\n",
        "print(\"Вероятность выхода из строя хотя бы одной детали:\", round(p_at_least_one, 3))\n",
        "\n",
        "# Вычисление вероятности выхода из строя от одной до двух деталей\n",
        "p_one_to_two = p1 * (1 - p2) * (1 - p3) + (1 - p1) * p2 * (1 - p3) + (1 - p1) * (1 - p2) * p3\n",
        "print(\"Вероятность выхода из строя от одной до двух деталей:\", round(p_one_to_two, 3))"
      ],
      "metadata": {
        "colab": {
          "base_uri": "https://localhost:8080/"
        },
        "id": "-uKAFdGV9ipg",
        "outputId": "1d064c6f-2121-4cd3-9084-61b4a0f8b693"
      },
      "execution_count": 17,
      "outputs": [
        {
          "output_type": "stream",
          "name": "stdout",
          "text": [
            "Вероятность выхода из строя всех деталей: 0.005\n",
            "Вероятность выхода из строя только двух деталей: 0.08\n",
            "Вероятность выхода из строя хотя бы одной детали: 0.46\n",
            "Вероятность выхода из строя от одной до двух деталей: 0.375\n"
          ]
        }
      ]
    }
  ]
}